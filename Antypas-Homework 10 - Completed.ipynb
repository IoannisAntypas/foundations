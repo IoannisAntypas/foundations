{
 "cells": [
  {
   "cell_type": "markdown",
   "metadata": {},
   "source": [
    "# Exercise: Cherry Blossoms!\n",
    "\n",
    "#### Summary\n",
    "\n",
    "Once upon a time it was サクラ season, which meant the [cherry blossoms](https://en.wikipedia.org/wiki/Cherry_blossom) were in full bloom! This year they bloomed a little early and they've long sinced faded, so for today we'll stick with data-driven blossoms: http://atmenv.envi.osakafu-u.ac.jp/aono/kyophenotemp4/\n",
    "\n",
    "#### Data Source(s)\n",
    "\n",
    "Historical Series of Phenological data for Cherry Tree Flowering at Kyoto City\n",
    "(and March Mean Temperature Reconstructions), http://atmenv.envi.osakafu-u.ac.jp/aono/kyophenotemp4/\n",
    "\n",
    "#### Files\n",
    "\n",
    "- KyotoFullFlower7.xls, \"Full-flowering Dates of Prunus jamasakura in Kyoto City\"\n",
    "\n",
    "#### Skills\n",
    "\n",
    "- Working with Excel files\n",
    "- Ignoring the first few rows\n",
    "- Replacing NaN values\n",
    "- Counting and summarizing columns\n",
    "- Replacing non-NaN values\n",
    "- Extracting with strings\n",
    "- Rolling means"
   ]
  },
  {
   "cell_type": "markdown",
   "metadata": {},
   "source": [
    "# Read in `KyotoFullFlower7.xls`\n",
    "\n",
    "Be sure to look at the first five rows."
   ]
  },
  {
   "cell_type": "code",
   "execution_count": 1,
   "metadata": {
    "collapsed": true
   },
   "outputs": [],
   "source": [
    "import pandas as pd"
   ]
  },
  {
   "cell_type": "code",
   "execution_count": null,
   "metadata": {
    "collapsed": true
   },
   "outputs": [],
   "source": []
  },
  {
   "cell_type": "code",
   "execution_count": 2,
   "metadata": {
    "collapsed": true
   },
   "outputs": [],
   "source": [
    "df = pd.read_excel(\"KyotoFullFlower7.xls\", skiprows= 25)"
   ]
  },
  {
   "cell_type": "markdown",
   "metadata": {},
   "source": [
    "### That... doesn't look right. Why not? \n",
    "\n",
    "Examine your column names, and maybe even open up the file in Excel."
   ]
  },
  {
   "cell_type": "code",
   "execution_count": 3,
   "metadata": {},
   "outputs": [
    {
     "data": {
      "text/html": [
       "<div>\n",
       "<style>\n",
       "    .dataframe thead tr:only-child th {\n",
       "        text-align: right;\n",
       "    }\n",
       "\n",
       "    .dataframe thead th {\n",
       "        text-align: left;\n",
       "    }\n",
       "\n",
       "    .dataframe tbody tr th {\n",
       "        vertical-align: top;\n",
       "    }\n",
       "</style>\n",
       "<table border=\"1\" class=\"dataframe\">\n",
       "  <thead>\n",
       "    <tr style=\"text-align: right;\">\n",
       "      <th></th>\n",
       "      <th>AD</th>\n",
       "      <th>Full-flowering date (DOY)</th>\n",
       "      <th>Full-flowering date</th>\n",
       "      <th>Source code</th>\n",
       "      <th>Data type code</th>\n",
       "      <th>Reference Name</th>\n",
       "    </tr>\n",
       "  </thead>\n",
       "  <tbody>\n",
       "    <tr>\n",
       "      <th>0</th>\n",
       "      <td>801</td>\n",
       "      <td>NaN</td>\n",
       "      <td>NaN</td>\n",
       "      <td>NaN</td>\n",
       "      <td>NaN</td>\n",
       "      <td>-</td>\n",
       "    </tr>\n",
       "    <tr>\n",
       "      <th>1</th>\n",
       "      <td>802</td>\n",
       "      <td>NaN</td>\n",
       "      <td>NaN</td>\n",
       "      <td>NaN</td>\n",
       "      <td>NaN</td>\n",
       "      <td>-</td>\n",
       "    </tr>\n",
       "    <tr>\n",
       "      <th>2</th>\n",
       "      <td>803</td>\n",
       "      <td>NaN</td>\n",
       "      <td>NaN</td>\n",
       "      <td>NaN</td>\n",
       "      <td>NaN</td>\n",
       "      <td>-</td>\n",
       "    </tr>\n",
       "    <tr>\n",
       "      <th>3</th>\n",
       "      <td>804</td>\n",
       "      <td>NaN</td>\n",
       "      <td>NaN</td>\n",
       "      <td>NaN</td>\n",
       "      <td>NaN</td>\n",
       "      <td>-</td>\n",
       "    </tr>\n",
       "    <tr>\n",
       "      <th>4</th>\n",
       "      <td>805</td>\n",
       "      <td>NaN</td>\n",
       "      <td>NaN</td>\n",
       "      <td>NaN</td>\n",
       "      <td>NaN</td>\n",
       "      <td>-</td>\n",
       "    </tr>\n",
       "  </tbody>\n",
       "</table>\n",
       "</div>"
      ],
      "text/plain": [
       "    AD  Full-flowering date (DOY)  Full-flowering date  Source code  \\\n",
       "0  801                        NaN                  NaN          NaN   \n",
       "1  802                        NaN                  NaN          NaN   \n",
       "2  803                        NaN                  NaN          NaN   \n",
       "3  804                        NaN                  NaN          NaN   \n",
       "4  805                        NaN                  NaN          NaN   \n",
       "\n",
       "   Data type code Reference Name  \n",
       "0             NaN              -  \n",
       "1             NaN              -  \n",
       "2             NaN              -  \n",
       "3             NaN              -  \n",
       "4             NaN              -  "
      ]
     },
     "execution_count": 3,
     "metadata": {},
     "output_type": "execute_result"
    }
   ],
   "source": [
    "df.head()"
   ]
  },
  {
   "cell_type": "markdown",
   "metadata": {},
   "source": [
    "### Read in the file correctly, and look at the first five rows\n",
    "\n",
    "- TIP: The first year should be 801 AD, and it should not have any dates or anything."
   ]
  },
  {
   "cell_type": "code",
   "execution_count": 4,
   "metadata": {},
   "outputs": [
    {
     "data": {
      "text/html": [
       "<div>\n",
       "<style>\n",
       "    .dataframe thead tr:only-child th {\n",
       "        text-align: right;\n",
       "    }\n",
       "\n",
       "    .dataframe thead th {\n",
       "        text-align: left;\n",
       "    }\n",
       "\n",
       "    .dataframe tbody tr th {\n",
       "        vertical-align: top;\n",
       "    }\n",
       "</style>\n",
       "<table border=\"1\" class=\"dataframe\">\n",
       "  <thead>\n",
       "    <tr style=\"text-align: right;\">\n",
       "      <th></th>\n",
       "      <th>AD</th>\n",
       "      <th>Full-flowering date (DOY)</th>\n",
       "      <th>Full-flowering date</th>\n",
       "      <th>Source code</th>\n",
       "      <th>Data type code</th>\n",
       "      <th>Reference Name</th>\n",
       "    </tr>\n",
       "  </thead>\n",
       "  <tbody>\n",
       "    <tr>\n",
       "      <th>0</th>\n",
       "      <td>801</td>\n",
       "      <td>NaN</td>\n",
       "      <td>NaN</td>\n",
       "      <td>NaN</td>\n",
       "      <td>NaN</td>\n",
       "      <td>-</td>\n",
       "    </tr>\n",
       "    <tr>\n",
       "      <th>1</th>\n",
       "      <td>802</td>\n",
       "      <td>NaN</td>\n",
       "      <td>NaN</td>\n",
       "      <td>NaN</td>\n",
       "      <td>NaN</td>\n",
       "      <td>-</td>\n",
       "    </tr>\n",
       "    <tr>\n",
       "      <th>2</th>\n",
       "      <td>803</td>\n",
       "      <td>NaN</td>\n",
       "      <td>NaN</td>\n",
       "      <td>NaN</td>\n",
       "      <td>NaN</td>\n",
       "      <td>-</td>\n",
       "    </tr>\n",
       "    <tr>\n",
       "      <th>3</th>\n",
       "      <td>804</td>\n",
       "      <td>NaN</td>\n",
       "      <td>NaN</td>\n",
       "      <td>NaN</td>\n",
       "      <td>NaN</td>\n",
       "      <td>-</td>\n",
       "    </tr>\n",
       "    <tr>\n",
       "      <th>4</th>\n",
       "      <td>805</td>\n",
       "      <td>NaN</td>\n",
       "      <td>NaN</td>\n",
       "      <td>NaN</td>\n",
       "      <td>NaN</td>\n",
       "      <td>-</td>\n",
       "    </tr>\n",
       "  </tbody>\n",
       "</table>\n",
       "</div>"
      ],
      "text/plain": [
       "    AD  Full-flowering date (DOY)  Full-flowering date  Source code  \\\n",
       "0  801                        NaN                  NaN          NaN   \n",
       "1  802                        NaN                  NaN          NaN   \n",
       "2  803                        NaN                  NaN          NaN   \n",
       "3  804                        NaN                  NaN          NaN   \n",
       "4  805                        NaN                  NaN          NaN   \n",
       "\n",
       "   Data type code Reference Name  \n",
       "0             NaN              -  \n",
       "1             NaN              -  \n",
       "2             NaN              -  \n",
       "3             NaN              -  \n",
       "4             NaN              -  "
      ]
     },
     "execution_count": 4,
     "metadata": {},
     "output_type": "execute_result"
    }
   ],
   "source": [
    "df.head()"
   ]
  },
  {
   "cell_type": "markdown",
   "metadata": {},
   "source": [
    "### Look at the final five rows of the data"
   ]
  },
  {
   "cell_type": "code",
   "execution_count": 5,
   "metadata": {},
   "outputs": [
    {
     "data": {
      "text/html": [
       "<div>\n",
       "<style>\n",
       "    .dataframe thead tr:only-child th {\n",
       "        text-align: right;\n",
       "    }\n",
       "\n",
       "    .dataframe thead th {\n",
       "        text-align: left;\n",
       "    }\n",
       "\n",
       "    .dataframe tbody tr th {\n",
       "        vertical-align: top;\n",
       "    }\n",
       "</style>\n",
       "<table border=\"1\" class=\"dataframe\">\n",
       "  <thead>\n",
       "    <tr style=\"text-align: right;\">\n",
       "      <th></th>\n",
       "      <th>AD</th>\n",
       "      <th>Full-flowering date (DOY)</th>\n",
       "      <th>Full-flowering date</th>\n",
       "      <th>Source code</th>\n",
       "      <th>Data type code</th>\n",
       "      <th>Reference Name</th>\n",
       "    </tr>\n",
       "  </thead>\n",
       "  <tbody>\n",
       "    <tr>\n",
       "      <th>1210</th>\n",
       "      <td>2011</td>\n",
       "      <td>99.0</td>\n",
       "      <td>409.0</td>\n",
       "      <td>8.0</td>\n",
       "      <td>0.0</td>\n",
       "      <td>NEWS-PAPER(ARASHIYAMA)</td>\n",
       "    </tr>\n",
       "    <tr>\n",
       "      <th>1211</th>\n",
       "      <td>2012</td>\n",
       "      <td>101.0</td>\n",
       "      <td>410.0</td>\n",
       "      <td>8.0</td>\n",
       "      <td>0.0</td>\n",
       "      <td>NEWS-PAPER(ARASHIYAMA)</td>\n",
       "    </tr>\n",
       "    <tr>\n",
       "      <th>1212</th>\n",
       "      <td>2013</td>\n",
       "      <td>93.0</td>\n",
       "      <td>403.0</td>\n",
       "      <td>8.0</td>\n",
       "      <td>0.0</td>\n",
       "      <td>NEWS-PAPER(ARASHIYAMA)</td>\n",
       "    </tr>\n",
       "    <tr>\n",
       "      <th>1213</th>\n",
       "      <td>2014</td>\n",
       "      <td>94.0</td>\n",
       "      <td>404.0</td>\n",
       "      <td>8.0</td>\n",
       "      <td>0.0</td>\n",
       "      <td>NEWS-PAPER(ARASHIYAMA)</td>\n",
       "    </tr>\n",
       "    <tr>\n",
       "      <th>1214</th>\n",
       "      <td>2015</td>\n",
       "      <td>93.0</td>\n",
       "      <td>403.0</td>\n",
       "      <td>8.0</td>\n",
       "      <td>0.0</td>\n",
       "      <td>NEWS-PAPER(ARASHIYAMA)</td>\n",
       "    </tr>\n",
       "  </tbody>\n",
       "</table>\n",
       "</div>"
      ],
      "text/plain": [
       "        AD  Full-flowering date (DOY)  Full-flowering date  Source code  \\\n",
       "1210  2011                       99.0                409.0          8.0   \n",
       "1211  2012                      101.0                410.0          8.0   \n",
       "1212  2013                       93.0                403.0          8.0   \n",
       "1213  2014                       94.0                404.0          8.0   \n",
       "1214  2015                       93.0                403.0          8.0   \n",
       "\n",
       "      Data type code          Reference Name  \n",
       "1210             0.0  NEWS-PAPER(ARASHIYAMA)  \n",
       "1211             0.0  NEWS-PAPER(ARASHIYAMA)  \n",
       "1212             0.0  NEWS-PAPER(ARASHIYAMA)  \n",
       "1213             0.0  NEWS-PAPER(ARASHIYAMA)  \n",
       "1214             0.0  NEWS-PAPER(ARASHIYAMA)  "
      ]
     },
     "execution_count": 5,
     "metadata": {},
     "output_type": "execute_result"
    }
   ],
   "source": [
    "df.tail()"
   ]
  },
  {
   "cell_type": "markdown",
   "metadata": {},
   "source": [
    "## Watching out for NaN values"
   ]
  },
  {
   "cell_type": "markdown",
   "metadata": {},
   "source": [
    "Take a look at **Reference name**. Is there something you should set to be `NaN`? Use either of the two ways we have covered."
   ]
  },
  {
   "cell_type": "code",
   "execution_count": 6,
   "metadata": {},
   "outputs": [
    {
     "data": {
      "text/plain": [
       "-                                 388\n",
       "NEWS-PAPER(ARASHIYAMA)             94\n",
       "SUGIURAKE-NIKKI                    38\n",
       "MYOHOIN-HINAMIKI                   32\n",
       "OYUDONONO-UENO-NIKKI               26\n",
       "DAIGOJI-ZATSUYO                    21\n",
       "OYUDONONO-UENO-NIKKI [EDA]         21\n",
       "NIHONKIRYAKU                       19\n",
       "SANETAKA-KOKI                      19\n",
       "(SHIRYO-SORAN)                     15\n",
       "KAKUMEIKI                          15\n",
       "ZOKU-SHIGUSHO                      14\n",
       "NISUIKI                            13\n",
       "INRYOGEN-NICHIROKU                 13\n",
       "MEIGETSUKI                         12\n",
       "GUKANKI                            10\n",
       "GIENJUNKO-NIKKI(DAIGO)             10\n",
       "MOTOHIRO-KOKI                       9\n",
       "KEIHAN RAILWAY ADV(ARASHIYAMA)      9\n",
       "DAIGO-ZOJIKI                        9\n",
       "KANMON-GYOKI(FUSHIMI)               9\n",
       "TERUYOSHI-KOKI                      8\n",
       "RAI-SANYO-NIPPU                     8\n",
       "MANZAIJUNGO-NIKKI(DAIGO)            8\n",
       "ZOKU-HONCHOTSUKAN                   8\n",
       "TAKAGI-ZAICHU-NIKKI                 8\n",
       "TOKIYOSHI-KYOKI                     8\n",
       "HANAZONOTENNO-SHINKI                8\n",
       "TOKITSUGU-KYOKI                     8\n",
       "(DAINIHON-SHIRYO)                   7\n",
       "                                 ... \n",
       "YANAGIHARA-KOREMITSU-NIKKI          1\n",
       "MITSUTSUNE-SHU                      1\n",
       "RINEI-WAKASHU                       1\n",
       "NORINAGA-ZAIKYO-NIKKI               1\n",
       "MORIMITSU-KOKI                      1\n",
       "SHUI-WAKASHU                        1\n",
       "HIRAMATSUKE-NIKKI                   1\n",
       "GOMOMOZONO-TENNNOU-SHINKI           1\n",
       "GYOJO-HOSSINNO-NIKKI [KINDAI]       1\n",
       "SHUISHO                             1\n",
       "MOROZANE-SHU                        1\n",
       "SHINCHO-KOKI                        1\n",
       "GYOKYO-HOSSINNO-NIKKI               1\n",
       "SHUGAKKAIKI                         1\n",
       "EST-from-KJ(SHOKA-WAKASHU)          1\n",
       "EST-from-WF(MASAATSUKYO-EISO)       1\n",
       "HANA-NO-SHITABUSHI                  1\n",
       "ZOKU-KOKIN-WAKASHU                  1\n",
       "SHINGISHIKI                         1\n",
       "HARU-NO-NISHIKI                     1\n",
       "MISSHU-KETSUMYAKUSHO                1\n",
       "NAKAYAMAISAKO-NIKKI                 1\n",
       "MITSUTSUNA-KYOKI                    1\n",
       "EST-from-WF(NIHONGI-RYAKU)          1\n",
       "BURUI-GENYO-WAKASHU                 1\n",
       "NAKASUKEOKI                         1\n",
       "DAI-SAIIN-GYOSHU                    1\n",
       "TADAYOSHI-KOKI                      1\n",
       "RYOGEN-IN-KI                        1\n",
       "ASUKAI-SHU                          1\n",
       "Name: Reference Name, Length: 223, dtype: int64"
      ]
     },
     "execution_count": 6,
     "metadata": {},
     "output_type": "execute_result"
    }
   ],
   "source": [
    "df['Reference Name'].value_counts()"
   ]
  },
  {
   "cell_type": "code",
   "execution_count": 7,
   "metadata": {
    "collapsed": true
   },
   "outputs": [],
   "source": [
    "import numpy as np"
   ]
  },
  {
   "cell_type": "code",
   "execution_count": 8,
   "metadata": {},
   "outputs": [
    {
     "data": {
      "text/plain": [
       "nan"
      ]
     },
     "execution_count": 8,
     "metadata": {},
     "output_type": "execute_result"
    }
   ],
   "source": [
    "np.nan"
   ]
  },
  {
   "cell_type": "code",
   "execution_count": 9,
   "metadata": {
    "collapsed": true
   },
   "outputs": [],
   "source": [
    "df['Reference Name'].replace('-', np.nan, inplace=True)"
   ]
  },
  {
   "cell_type": "code",
   "execution_count": 10,
   "metadata": {
    "collapsed": true
   },
   "outputs": [],
   "source": [
    "df['Reference Name'].replace('NaN', np.nan, inplace=True)"
   ]
  },
  {
   "cell_type": "code",
   "execution_count": 11,
   "metadata": {},
   "outputs": [
    {
     "data": {
      "text/plain": [
       "NEWS-PAPER(ARASHIYAMA)            94\n",
       "SUGIURAKE-NIKKI                   38\n",
       "MYOHOIN-HINAMIKI                  32\n",
       "OYUDONONO-UENO-NIKKI              26\n",
       "DAIGOJI-ZATSUYO                   21\n",
       "OYUDONONO-UENO-NIKKI [EDA]        21\n",
       "SANETAKA-KOKI                     19\n",
       "NIHONKIRYAKU                      19\n",
       "(SHIRYO-SORAN)                    15\n",
       "KAKUMEIKI                         15\n",
       "ZOKU-SHIGUSHO                     14\n",
       "NISUIKI                           13\n",
       "INRYOGEN-NICHIROKU                13\n",
       "MEIGETSUKI                        12\n",
       "GUKANKI                           10\n",
       "GIENJUNKO-NIKKI(DAIGO)            10\n",
       "KEIHAN RAILWAY ADV(ARASHIYAMA)     9\n",
       "DAIGO-ZOJIKI                       9\n",
       "MOTOHIRO-KOKI                      9\n",
       "KANMON-GYOKI(FUSHIMI)              9\n",
       "TOKITSUGU-KYOKI                    8\n",
       "TERUYOSHI-KOKI                     8\n",
       "ZOKU-HONCHOTSUKAN                  8\n",
       "TAKAGI-ZAICHU-NIKKI                8\n",
       "MANZAIJUNGO-NIKKI(DAIGO)           8\n",
       "TOKIYOSHI-KYOKI                    8\n",
       "HANAZONOTENNO-SHINKI               8\n",
       "RAI-SANYO-NIPPU                    8\n",
       "(DAINIHON-SHIRYO)                  7\n",
       "YASUSHIGE-KYOKI                    6\n",
       "                                  ..\n",
       "YANAGIHARA-KOREMITSU-NIKKI         1\n",
       "MITSUTSUNE-SHU                     1\n",
       "RINEI-WAKASHU                      1\n",
       "NORINAGA-ZAIKYO-NIKKI              1\n",
       "MORIMITSU-KOKI                     1\n",
       "SHUI-WAKASHU                       1\n",
       "HIRAMATSUKE-NIKKI                  1\n",
       "GOMOMOZONO-TENNNOU-SHINKI          1\n",
       "GYOJO-HOSSINNO-NIKKI [KINDAI]      1\n",
       "SHUISHO                            1\n",
       "MOROZANE-SHU                       1\n",
       "SHINCHO-KOKI                       1\n",
       "GYOKYO-HOSSINNO-NIKKI              1\n",
       "SHUGAKKAIKI                        1\n",
       "EST-from-KJ(SHOKA-WAKASHU)         1\n",
       "EST-from-WF(MASAATSUKYO-EISO)      1\n",
       "HANA-NO-SHITABUSHI                 1\n",
       "ZOKU-KOKIN-WAKASHU                 1\n",
       "SHINGISHIKI                        1\n",
       "HARU-NO-NISHIKI                    1\n",
       "MISSHU-KETSUMYAKUSHO               1\n",
       "NAKAYAMAISAKO-NIKKI                1\n",
       "MITSUTSUNA-KYOKI                   1\n",
       "EST-from-WF(NIHONGI-RYAKU)         1\n",
       "BURUI-GENYO-WAKASHU                1\n",
       "NAKASUKEOKI                        1\n",
       "DAI-SAIIN-GYOSHU                   1\n",
       "GAUN-NIKKENROKU-BATSUYU            1\n",
       "TADAYOSHI-KOKI                     1\n",
       "ASUKAI-SHU                         1\n",
       "Name: Reference Name, Length: 222, dtype: int64"
      ]
     },
     "execution_count": 11,
     "metadata": {},
     "output_type": "execute_result"
    }
   ],
   "source": [
    "df['Reference Name'].value_counts(dropna=True)"
   ]
  },
  {
   "cell_type": "markdown",
   "metadata": {},
   "source": [
    "### Check that you have 827 values for \"Full-flowering date (DOY)\" and 825 for \"Reference Name\""
   ]
  },
  {
   "cell_type": "code",
   "execution_count": 12,
   "metadata": {},
   "outputs": [
    {
     "data": {
      "text/plain": [
       "827"
      ]
     },
     "execution_count": 12,
     "metadata": {},
     "output_type": "execute_result"
    }
   ],
   "source": [
    "df['Full-flowering date (DOY)'].count()"
   ]
  },
  {
   "cell_type": "code",
   "execution_count": 13,
   "metadata": {},
   "outputs": [
    {
     "data": {
      "text/plain": [
       "825"
      ]
     },
     "execution_count": 13,
     "metadata": {},
     "output_type": "execute_result"
    }
   ],
   "source": [
    "df['Reference Name'].count()"
   ]
  },
  {
   "cell_type": "markdown",
   "metadata": {},
   "source": [
    "# Cleaning up our data"
   ]
  },
  {
   "cell_type": "markdown",
   "metadata": {},
   "source": [
    "## What sources are the most common as a reference?"
   ]
  },
  {
   "cell_type": "code",
   "execution_count": 14,
   "metadata": {},
   "outputs": [
    {
     "data": {
      "text/plain": [
       "NEWS-PAPER(ARASHIYAMA)    94\n",
       "SUGIURAKE-NIKKI           38\n",
       "MYOHOIN-HINAMIKI          32\n",
       "OYUDONONO-UENO-NIKKI      26\n",
       "DAIGOJI-ZATSUYO           21\n",
       "Name: Reference Name, dtype: int64"
      ]
     },
     "execution_count": 14,
     "metadata": {},
     "output_type": "execute_result"
    }
   ],
   "source": [
    "df['Reference Name'].value_counts().head(5)"
   ]
  },
  {
   "cell_type": "markdown",
   "metadata": {},
   "source": [
    "## Filter the list to only include rows that have a `Full-flowering date (DOY)`"
   ]
  },
  {
   "cell_type": "code",
   "execution_count": 15,
   "metadata": {
    "collapsed": true
   },
   "outputs": [],
   "source": [
    "df_ignore = df"
   ]
  },
  {
   "cell_type": "code",
   "execution_count": 16,
   "metadata": {},
   "outputs": [
    {
     "data": {
      "text/plain": [
       "NEWS-PAPER(ARASHIYAMA)            94\n",
       "SUGIURAKE-NIKKI                   38\n",
       "MYOHOIN-HINAMIKI                  32\n",
       "OYUDONONO-UENO-NIKKI              26\n",
       "DAIGOJI-ZATSUYO                   21\n",
       "OYUDONONO-UENO-NIKKI [EDA]        21\n",
       "SANETAKA-KOKI                     19\n",
       "NIHONKIRYAKU                      19\n",
       "(SHIRYO-SORAN)                    15\n",
       "KAKUMEIKI                         15\n",
       "ZOKU-SHIGUSHO                     14\n",
       "NISUIKI                           13\n",
       "INRYOGEN-NICHIROKU                13\n",
       "MEIGETSUKI                        12\n",
       "GUKANKI                           10\n",
       "GIENJUNKO-NIKKI(DAIGO)            10\n",
       "KEIHAN RAILWAY ADV(ARASHIYAMA)     9\n",
       "DAIGO-ZOJIKI                       9\n",
       "MOTOHIRO-KOKI                      9\n",
       "KANMON-GYOKI(FUSHIMI)              9\n",
       "TOKITSUGU-KYOKI                    8\n",
       "TERUYOSHI-KOKI                     8\n",
       "ZOKU-HONCHOTSUKAN                  8\n",
       "TAKAGI-ZAICHU-NIKKI                8\n",
       "MANZAIJUNGO-NIKKI(DAIGO)           8\n",
       "TOKIYOSHI-KYOKI                    8\n",
       "HANAZONOTENNO-SHINKI               8\n",
       "RAI-SANYO-NIPPU                    8\n",
       "(DAINIHON-SHIRYO)                  7\n",
       "YASUSHIGE-KYOKI                    6\n",
       "                                  ..\n",
       "YANAGIHARA-KOREMITSU-NIKKI         1\n",
       "MITSUTSUNE-SHU                     1\n",
       "RINEI-WAKASHU                      1\n",
       "NORINAGA-ZAIKYO-NIKKI              1\n",
       "MORIMITSU-KOKI                     1\n",
       "SHUI-WAKASHU                       1\n",
       "HIRAMATSUKE-NIKKI                  1\n",
       "GOMOMOZONO-TENNNOU-SHINKI          1\n",
       "GYOJO-HOSSINNO-NIKKI [KINDAI]      1\n",
       "SHUISHO                            1\n",
       "MOROZANE-SHU                       1\n",
       "SHINCHO-KOKI                       1\n",
       "GYOKYO-HOSSINNO-NIKKI              1\n",
       "SHUGAKKAIKI                        1\n",
       "EST-from-KJ(SHOKA-WAKASHU)         1\n",
       "EST-from-WF(MASAATSUKYO-EISO)      1\n",
       "HANA-NO-SHITABUSHI                 1\n",
       "ZOKU-KOKIN-WAKASHU                 1\n",
       "SHINGISHIKI                        1\n",
       "HARU-NO-NISHIKI                    1\n",
       "MISSHU-KETSUMYAKUSHO               1\n",
       "NAKAYAMAISAKO-NIKKI                1\n",
       "MITSUTSUNA-KYOKI                   1\n",
       "EST-from-WF(NIHONGI-RYAKU)         1\n",
       "BURUI-GENYO-WAKASHU                1\n",
       "NAKASUKEOKI                        1\n",
       "DAI-SAIIN-GYOSHU                   1\n",
       "GAUN-NIKKENROKU-BATSUYU            1\n",
       "TADAYOSHI-KOKI                     1\n",
       "ASUKAI-SHU                         1\n",
       "Name: Reference Name, Length: 222, dtype: int64"
      ]
     },
     "execution_count": 16,
     "metadata": {},
     "output_type": "execute_result"
    }
   ],
   "source": [
    "df_ignore[df_ignore['Full-flowering date (DOY)'] != np.nan]['Reference Name'].value_counts()"
   ]
  },
  {
   "cell_type": "markdown",
   "metadata": {},
   "source": [
    "## Make a histogram of the full-flowering date."
   ]
  },
  {
   "cell_type": "code",
   "execution_count": 17,
   "metadata": {
    "collapsed": true
   },
   "outputs": [],
   "source": [
    "%matplotlib inline"
   ]
  },
  {
   "cell_type": "code",
   "execution_count": 18,
   "metadata": {},
   "outputs": [
    {
     "data": {
      "text/plain": [
       "<matplotlib.axes._subplots.AxesSubplot at 0x109bdca58>"
      ]
     },
     "execution_count": 18,
     "metadata": {},
     "output_type": "execute_result"
    },
    {
     "data": {
      "image/png": "[encoded data removed]",
      "text/plain": [
       "<matplotlib.figure.Figure at 0x1091dfe10>"
      ]
     },
     "metadata": {},
     "output_type": "display_data"
    }
   ],
   "source": [
    "df_ignore['Full-flowering date (DOY)'].hist()"
   ]
  },
  {
   "cell_type": "code",
   "execution_count": null,
   "metadata": {
    "collapsed": true
   },
   "outputs": [],
   "source": []
  },
  {
   "cell_type": "markdown",
   "metadata": {},
   "source": [
    "## Make another histogram of the full-flowering date, but with 39 bins instead of 10"
   ]
  },
  {
   "cell_type": "code",
   "execution_count": 19,
   "metadata": {},
   "outputs": [
    {
     "data": {
      "text/plain": [
       "<matplotlib.axes._subplots.AxesSubplot at 0x109ceed30>"
      ]
     },
     "execution_count": 19,
     "metadata": {},
     "output_type": "execute_result"
    },
    {
     "data": {
      "image/png": "[encoded data removed]",
      "text/plain": [
       "<matplotlib.figure.Figure at 0x1091dfb00>"
      ]
     },
     "metadata": {},
     "output_type": "display_data"
    }
   ],
   "source": [
    "df_ignore['Full-flowering date (DOY)'].hist(bins=39)"
   ]
  },
  {
   "cell_type": "markdown",
   "metadata": {},
   "source": [
    "## What's the average number of days it takes for the flowers to blossom? The max? Min? And how many records do we have?\n",
    "\n",
    "Answer these with one line of code."
   ]
  },
  {
   "cell_type": "code",
   "execution_count": 20,
   "metadata": {},
   "outputs": [
    {
     "data": {
      "text/plain": [
       "count    827.000000\n",
       "mean     104.540508\n",
       "std        6.407036\n",
       "min       86.000000\n",
       "25%      100.000000\n",
       "50%      105.000000\n",
       "75%      109.000000\n",
       "max      124.000000\n",
       "Name: Full-flowering date (DOY), dtype: float64"
      ]
     },
     "execution_count": 20,
     "metadata": {},
     "output_type": "execute_result"
    }
   ],
   "source": [
    "df_ignore['Full-flowering date (DOY)'].describe()"
   ]
  },
  {
   "cell_type": "markdown",
   "metadata": {},
   "source": [
    "## What's the average number of days into the year cherry flowers normally blossomed before 1900?"
   ]
  },
  {
   "cell_type": "code",
   "execution_count": 21,
   "metadata": {
    "collapsed": true
   },
   "outputs": [],
   "source": [
    "pd.set_option(\"display.float_format\", \"{:.0f}\".format)"
   ]
  },
  {
   "cell_type": "code",
   "execution_count": 22,
   "metadata": {},
   "outputs": [
    {
     "data": {
      "text/plain": [
       "104    56\n",
       "105    53\n",
       "106    49\n",
       "102    48\n",
       "103    47\n",
       "108    46\n",
       "109    41\n",
       "107    41\n",
       "101    38\n",
       "98     37\n",
       "99     36\n",
       "112    36\n",
       "110    35\n",
       "111    32\n",
       "100    32\n",
       "97     31\n",
       "113    22\n",
       "96     21\n",
       "95     19\n",
       "93     15\n",
       "114    14\n",
       "115    13\n",
       "94     11\n",
       "116     9\n",
       "120     8\n",
       "117     7\n",
       "92      6\n",
       "87      4\n",
       "119     4\n",
       "91      4\n",
       "118     3\n",
       "89      2\n",
       "88      2\n",
       "122     2\n",
       "90      1\n",
       "124     1\n",
       "86      1\n",
       "Name: Full-flowering date (DOY), dtype: int64"
      ]
     },
     "execution_count": 22,
     "metadata": {},
     "output_type": "execute_result"
    }
   ],
   "source": [
    "df_ignore['Full-flowering date (DOY)'].value_counts(dropna=True).sort_values(ascending=False)"
   ]
  },
  {
   "cell_type": "code",
   "execution_count": 23,
   "metadata": {},
   "outputs": [
    {
     "data": {
      "text/plain": [
       "105.20728291316527"
      ]
     },
     "execution_count": 23,
     "metadata": {},
     "output_type": "execute_result"
    }
   ],
   "source": [
    "df_ignore[df_ignore['AD'] < 1900]['Full-flowering date (DOY)'].mean()"
   ]
  },
  {
   "cell_type": "code",
   "execution_count": null,
   "metadata": {
    "collapsed": true
   },
   "outputs": [],
   "source": []
  },
  {
   "cell_type": "markdown",
   "metadata": {},
   "source": [
    "## How about after 1900?"
   ]
  },
  {
   "cell_type": "code",
   "execution_count": 24,
   "metadata": {},
   "outputs": [
    {
     "data": {
      "text/plain": [
       "100.3125"
      ]
     },
     "execution_count": 24,
     "metadata": {},
     "output_type": "execute_result"
    }
   ],
   "source": [
    "df_ignore[df_ignore['AD'] > 1900]['Full-flowering date (DOY)'].mean()"
   ]
  },
  {
   "cell_type": "markdown",
   "metadata": {},
   "source": [
    "## How many times was our data from a title in Japanese poetry?\n",
    "\n",
    "You'll need to read the documentation inside of the Excel file."
   ]
  },
  {
   "cell_type": "code",
   "execution_count": 25,
   "metadata": {},
   "outputs": [
    {
     "data": {
      "text/plain": [
       "AD                           39\n",
       "Full-flowering date (DOY)    39\n",
       "Full-flowering date          39\n",
       "Source code                  39\n",
       "Data type code               39\n",
       "Reference Name               39\n",
       "dtype: int64"
      ]
     },
     "execution_count": 25,
     "metadata": {},
     "output_type": "execute_result"
    }
   ],
   "source": [
    "df_ignore[df_ignore['Data type code'] == 4].count()"
   ]
  },
  {
   "cell_type": "code",
   "execution_count": 26,
   "metadata": {
    "collapsed": true
   },
   "outputs": [],
   "source": [
    "#39 times"
   ]
  },
  {
   "cell_type": "markdown",
   "metadata": {},
   "source": [
    "## Actually, that looks terrible. Replace the \"Source code\" and \"data type code\" columns with the values they stand for."
   ]
  },
  {
   "cell_type": "code",
   "execution_count": 27,
   "metadata": {
    "collapsed": true
   },
   "outputs": [],
   "source": [
    " \n",
    "replacements = {\n",
    "\n",
    "    \n",
    "1: 'Reported by Taguchi (1939), J. Marine Meteorol. Soc. (Umi to Sora), 19, 217-227',\n",
    "2: 'Added by Sekiguchi (1969), Tokyo Geography Papers, 13, 175-190.',\n",
    "3: 'Added by Aono and Omoto (1994), J. Agric. Meteorol., 49, 263-272.',\n",
    "4: 'Added by Aono and Kazui (2008), Int. J. Climatol., 28, 905-914 (doi: 10.1002/joc.1594).',\n",
    "5: 'Cherry phenological data, Added by Aono and Saito (2010), Int. J. Biometeorol., 54, 211-219.',\n",
    "6: 'Added by Aono (2011), Time Studies, 4, 17-29. (in Japanese with English abstract)',\n",
    "7: 'Added by Aono (2012), Chikyu Kankyo, 17, 21-29. (in Japanese)',\n",
    "8: 'Found after the last publication of articles.'}\n",
    "\n",
    "replacements1 = { \n",
    "0: 'data from modern times (full-bloom date since 1880s)',\n",
    "1: 'from diary description about full-bloom',\n",
    "2: 'from diary description about cherry blossom viewing party',\n",
    "3: 'from diary description about presents of cherry twigs from party participants',\n",
    "4: 'title in Japanese poetry',\n",
    "8: 'Deduced from wisteria phenology, using the relation proposed by Aono and Saito (2010)',\n",
    "9: 'Deduced from Japanese kerria phenology, using the relation proposed by Aono (2011)'}"
   ]
  },
  {
   "cell_type": "code",
   "execution_count": 28,
   "metadata": {
    "collapsed": true
   },
   "outputs": [],
   "source": [
    "df_ignore['Source code'].replace(replacements, inplace=True)"
   ]
  },
  {
   "cell_type": "code",
   "execution_count": 29,
   "metadata": {
    "collapsed": true
   },
   "outputs": [],
   "source": [
    "df_ignore['Data type code'].replace(replacements1, inplace=True)"
   ]
  },
  {
   "cell_type": "code",
   "execution_count": 30,
   "metadata": {},
   "outputs": [
    {
     "data": {
      "text/html": [
       "<div>\n",
       "<style>\n",
       "    .dataframe thead tr:only-child th {\n",
       "        text-align: right;\n",
       "    }\n",
       "\n",
       "    .dataframe thead th {\n",
       "        text-align: left;\n",
       "    }\n",
       "\n",
       "    .dataframe tbody tr th {\n",
       "        vertical-align: top;\n",
       "    }\n",
       "</style>\n",
       "<table border=\"1\" class=\"dataframe\">\n",
       "  <thead>\n",
       "    <tr style=\"text-align: right;\">\n",
       "      <th></th>\n",
       "      <th>AD</th>\n",
       "      <th>Full-flowering date (DOY)</th>\n",
       "      <th>Full-flowering date</th>\n",
       "      <th>Source code</th>\n",
       "      <th>Data type code</th>\n",
       "      <th>Reference Name</th>\n",
       "    </tr>\n",
       "  </thead>\n",
       "  <tbody>\n",
       "    <tr>\n",
       "      <th>1210</th>\n",
       "      <td>2011</td>\n",
       "      <td>99</td>\n",
       "      <td>409</td>\n",
       "      <td>Found after the last publication of articles.</td>\n",
       "      <td>data from modern times (full-bloom date since ...</td>\n",
       "      <td>NEWS-PAPER(ARASHIYAMA)</td>\n",
       "    </tr>\n",
       "    <tr>\n",
       "      <th>1211</th>\n",
       "      <td>2012</td>\n",
       "      <td>101</td>\n",
       "      <td>410</td>\n",
       "      <td>Found after the last publication of articles.</td>\n",
       "      <td>data from modern times (full-bloom date since ...</td>\n",
       "      <td>NEWS-PAPER(ARASHIYAMA)</td>\n",
       "    </tr>\n",
       "    <tr>\n",
       "      <th>1212</th>\n",
       "      <td>2013</td>\n",
       "      <td>93</td>\n",
       "      <td>403</td>\n",
       "      <td>Found after the last publication of articles.</td>\n",
       "      <td>data from modern times (full-bloom date since ...</td>\n",
       "      <td>NEWS-PAPER(ARASHIYAMA)</td>\n",
       "    </tr>\n",
       "    <tr>\n",
       "      <th>1213</th>\n",
       "      <td>2014</td>\n",
       "      <td>94</td>\n",
       "      <td>404</td>\n",
       "      <td>Found after the last publication of articles.</td>\n",
       "      <td>data from modern times (full-bloom date since ...</td>\n",
       "      <td>NEWS-PAPER(ARASHIYAMA)</td>\n",
       "    </tr>\n",
       "    <tr>\n",
       "      <th>1214</th>\n",
       "      <td>2015</td>\n",
       "      <td>93</td>\n",
       "      <td>403</td>\n",
       "      <td>Found after the last publication of articles.</td>\n",
       "      <td>data from modern times (full-bloom date since ...</td>\n",
       "      <td>NEWS-PAPER(ARASHIYAMA)</td>\n",
       "    </tr>\n",
       "  </tbody>\n",
       "</table>\n",
       "</div>"
      ],
      "text/plain": [
       "        AD  Full-flowering date (DOY)  Full-flowering date  \\\n",
       "1210  2011                         99                  409   \n",
       "1211  2012                        101                  410   \n",
       "1212  2013                         93                  403   \n",
       "1213  2014                         94                  404   \n",
       "1214  2015                         93                  403   \n",
       "\n",
       "                                        Source code  \\\n",
       "1210  Found after the last publication of articles.   \n",
       "1211  Found after the last publication of articles.   \n",
       "1212  Found after the last publication of articles.   \n",
       "1213  Found after the last publication of articles.   \n",
       "1214  Found after the last publication of articles.   \n",
       "\n",
       "                                         Data type code  \\\n",
       "1210  data from modern times (full-bloom date since ...   \n",
       "1211  data from modern times (full-bloom date since ...   \n",
       "1212  data from modern times (full-bloom date since ...   \n",
       "1213  data from modern times (full-bloom date since ...   \n",
       "1214  data from modern times (full-bloom date since ...   \n",
       "\n",
       "              Reference Name  \n",
       "1210  NEWS-PAPER(ARASHIYAMA)  \n",
       "1211  NEWS-PAPER(ARASHIYAMA)  \n",
       "1212  NEWS-PAPER(ARASHIYAMA)  \n",
       "1213  NEWS-PAPER(ARASHIYAMA)  \n",
       "1214  NEWS-PAPER(ARASHIYAMA)  "
      ]
     },
     "execution_count": 30,
     "metadata": {},
     "output_type": "execute_result"
    }
   ],
   "source": [
    "df_ignore.tail()"
   ]
  },
  {
   "cell_type": "markdown",
   "metadata": {},
   "source": [
    "## Show only the years where our data was from a title in Japanese poetry"
   ]
  },
  {
   "cell_type": "code",
   "execution_count": 31,
   "metadata": {},
   "outputs": [
    {
     "data": {
      "text/html": [
       "<div>\n",
       "<style>\n",
       "    .dataframe thead tr:only-child th {\n",
       "        text-align: right;\n",
       "    }\n",
       "\n",
       "    .dataframe thead th {\n",
       "        text-align: left;\n",
       "    }\n",
       "\n",
       "    .dataframe tbody tr th {\n",
       "        vertical-align: top;\n",
       "    }\n",
       "</style>\n",
       "<table border=\"1\" class=\"dataframe\">\n",
       "  <thead>\n",
       "    <tr style=\"text-align: right;\">\n",
       "      <th></th>\n",
       "      <th>AD</th>\n",
       "      <th>Full-flowering date (DOY)</th>\n",
       "      <th>Full-flowering date</th>\n",
       "      <th>Source code</th>\n",
       "      <th>Data type code</th>\n",
       "      <th>Reference Name</th>\n",
       "    </tr>\n",
       "  </thead>\n",
       "  <tbody>\n",
       "    <tr>\n",
       "      <th>1210</th>\n",
       "      <td>2011</td>\n",
       "      <td>99</td>\n",
       "      <td>409</td>\n",
       "      <td>Found after the last publication of articles.</td>\n",
       "      <td>data from modern times (full-bloom date since ...</td>\n",
       "      <td>NEWS-PAPER(ARASHIYAMA)</td>\n",
       "    </tr>\n",
       "    <tr>\n",
       "      <th>1211</th>\n",
       "      <td>2012</td>\n",
       "      <td>101</td>\n",
       "      <td>410</td>\n",
       "      <td>Found after the last publication of articles.</td>\n",
       "      <td>data from modern times (full-bloom date since ...</td>\n",
       "      <td>NEWS-PAPER(ARASHIYAMA)</td>\n",
       "    </tr>\n",
       "    <tr>\n",
       "      <th>1212</th>\n",
       "      <td>2013</td>\n",
       "      <td>93</td>\n",
       "      <td>403</td>\n",
       "      <td>Found after the last publication of articles.</td>\n",
       "      <td>data from modern times (full-bloom date since ...</td>\n",
       "      <td>NEWS-PAPER(ARASHIYAMA)</td>\n",
       "    </tr>\n",
       "    <tr>\n",
       "      <th>1213</th>\n",
       "      <td>2014</td>\n",
       "      <td>94</td>\n",
       "      <td>404</td>\n",
       "      <td>Found after the last publication of articles.</td>\n",
       "      <td>data from modern times (full-bloom date since ...</td>\n",
       "      <td>NEWS-PAPER(ARASHIYAMA)</td>\n",
       "    </tr>\n",
       "    <tr>\n",
       "      <th>1214</th>\n",
       "      <td>2015</td>\n",
       "      <td>93</td>\n",
       "      <td>403</td>\n",
       "      <td>Found after the last publication of articles.</td>\n",
       "      <td>data from modern times (full-bloom date since ...</td>\n",
       "      <td>NEWS-PAPER(ARASHIYAMA)</td>\n",
       "    </tr>\n",
       "  </tbody>\n",
       "</table>\n",
       "</div>"
      ],
      "text/plain": [
       "        AD  Full-flowering date (DOY)  Full-flowering date  \\\n",
       "1210  2011                         99                  409   \n",
       "1211  2012                        101                  410   \n",
       "1212  2013                         93                  403   \n",
       "1213  2014                         94                  404   \n",
       "1214  2015                         93                  403   \n",
       "\n",
       "                                        Source code  \\\n",
       "1210  Found after the last publication of articles.   \n",
       "1211  Found after the last publication of articles.   \n",
       "1212  Found after the last publication of articles.   \n",
       "1213  Found after the last publication of articles.   \n",
       "1214  Found after the last publication of articles.   \n",
       "\n",
       "                                         Data type code  \\\n",
       "1210  data from modern times (full-bloom date since ...   \n",
       "1211  data from modern times (full-bloom date since ...   \n",
       "1212  data from modern times (full-bloom date since ...   \n",
       "1213  data from modern times (full-bloom date since ...   \n",
       "1214  data from modern times (full-bloom date since ...   \n",
       "\n",
       "              Reference Name  \n",
       "1210  NEWS-PAPER(ARASHIYAMA)  \n",
       "1211  NEWS-PAPER(ARASHIYAMA)  \n",
       "1212  NEWS-PAPER(ARASHIYAMA)  \n",
       "1213  NEWS-PAPER(ARASHIYAMA)  \n",
       "1214  NEWS-PAPER(ARASHIYAMA)  "
      ]
     },
     "execution_count": 31,
     "metadata": {},
     "output_type": "execute_result"
    }
   ],
   "source": [
    "df_ignore[df_ignore['Data type code'] == 'title in Japanese poetry']['AD']\n",
    "df_ignore.tail()"
   ]
  },
  {
   "cell_type": "code",
   "execution_count": 32,
   "metadata": {},
   "outputs": [
    {
     "data": {
      "text/plain": [
       "from diary description about cherry blossom viewing party                                454\n",
       "from diary description about full-bloom                                                  166\n",
       "data from modern times (full-bloom date since 1880s)                                     124\n",
       "title in Japanese poetry                                                                  39\n",
       "from diary description about presents of cherry twigs from party participants             30\n",
       "Deduced from wisteria phenology, using the relation proposed by Aono and Saito (2010)     11\n",
       "Deduced from Japanese kerria phenology, using the relation proposed by Aono (2011)         3\n",
       "Name: Data type code, dtype: int64"
      ]
     },
     "execution_count": 32,
     "metadata": {},
     "output_type": "execute_result"
    }
   ],
   "source": [
    "df_ignore['Data type code'].value_counts()"
   ]
  },
  {
   "cell_type": "markdown",
   "metadata": {},
   "source": [
    "## Graph the full-flowering date (DOY) over time"
   ]
  },
  {
   "cell_type": "code",
   "execution_count": 33,
   "metadata": {},
   "outputs": [
    {
     "data": {
      "text/plain": [
       "<matplotlib.axes._subplots.AxesSubplot at 0x109e4eba8>"
      ]
     },
     "execution_count": 33,
     "metadata": {},
     "output_type": "execute_result"
    },
    {
     "data": {
      "image/png": "[encoded data removed]",
      "text/plain": [
       "<matplotlib.figure.Figure at 0x109eb9198>"
      ]
     },
     "metadata": {},
     "output_type": "display_data"
    }
   ],
   "source": [
    "df_ignore[df_ignore['Full-flowering date (DOY)'] != np.nan]['Full-flowering date (DOY)'].value_counts().plot(kind='barh')"
   ]
  },
  {
   "cell_type": "code",
   "execution_count": 34,
   "metadata": {},
   "outputs": [
    {
     "data": {
      "image/png": "[encoded data removed]",
      "text/plain": [
       "<matplotlib.figure.Figure at 0x109fd59e8>"
      ]
     },
     "metadata": {},
     "output_type": "display_data"
    }
   ],
   "source": [
    "data = df_ignore.groupby('AD')['Full-flowering date (DOY)'].agg({'min','max','mean'})\n",
    "data.reset_index(inplace=True)\n",
    "\n",
    "ax  = data.plot(x='AD', y='mean', c='pink')\n",
    "\n"
   ]
  },
  {
   "cell_type": "markdown",
   "metadata": {},
   "source": [
    "## 15. Smooth out the graph\n",
    "\n",
    "It's so jagged! You can use `df.rolling` to calculate a rolling average.\n",
    "\n",
    "The following code calculates a **10-year mean**, using the `AD` column as the anchor. If there aren't 20 samples to work with in a row, it'll accept down to 5. Neat, right?\n",
    "\n",
    "(We're only looking at the final 5)"
   ]
  },
  {
   "cell_type": "code",
   "execution_count": 35,
   "metadata": {},
   "outputs": [
    {
     "data": {
      "text/html": [
       "<div>\n",
       "<style>\n",
       "    .dataframe thead tr:only-child th {\n",
       "        text-align: right;\n",
       "    }\n",
       "\n",
       "    .dataframe thead th {\n",
       "        text-align: left;\n",
       "    }\n",
       "\n",
       "    .dataframe tbody tr th {\n",
       "        vertical-align: top;\n",
       "    }\n",
       "</style>\n",
       "<table border=\"1\" class=\"dataframe\">\n",
       "  <thead>\n",
       "    <tr style=\"text-align: right;\">\n",
       "      <th></th>\n",
       "      <th>AD</th>\n",
       "      <th>Full-flowering date (DOY)</th>\n",
       "      <th>Full-flowering date</th>\n",
       "      <th>Source code</th>\n",
       "      <th>Data type code</th>\n",
       "      <th>Reference Name</th>\n",
       "    </tr>\n",
       "  </thead>\n",
       "  <tbody>\n",
       "    <tr>\n",
       "      <th>1195</th>\n",
       "      <td>1996</td>\n",
       "      <td>97</td>\n",
       "      <td>400</td>\n",
       "      <td>Added by Aono and Kazui (2008), Int. J. Climat...</td>\n",
       "      <td>data from modern times (full-bloom date since ...</td>\n",
       "      <td>NEWS-PAPER(ARASHIYAMA)</td>\n",
       "    </tr>\n",
       "    <tr>\n",
       "      <th>1196</th>\n",
       "      <td>1997</td>\n",
       "      <td>97</td>\n",
       "      <td>400</td>\n",
       "      <td>Added by Aono and Kazui (2008), Int. J. Climat...</td>\n",
       "      <td>data from modern times (full-bloom date since ...</td>\n",
       "      <td>NEWS-PAPER(ARASHIYAMA)</td>\n",
       "    </tr>\n",
       "    <tr>\n",
       "      <th>1197</th>\n",
       "      <td>1998</td>\n",
       "      <td>96</td>\n",
       "      <td>399</td>\n",
       "      <td>Added by Aono and Kazui (2008), Int. J. Climat...</td>\n",
       "      <td>data from modern times (full-bloom date since ...</td>\n",
       "      <td>NEWS-PAPER(ARASHIYAMA)</td>\n",
       "    </tr>\n",
       "    <tr>\n",
       "      <th>1198</th>\n",
       "      <td>1999</td>\n",
       "      <td>96</td>\n",
       "      <td>399</td>\n",
       "      <td>Added by Aono and Kazui (2008), Int. J. Climat...</td>\n",
       "      <td>data from modern times (full-bloom date since ...</td>\n",
       "      <td>NEWS-PAPER(ARASHIYAMA)</td>\n",
       "    </tr>\n",
       "    <tr>\n",
       "      <th>1199</th>\n",
       "      <td>2000</td>\n",
       "      <td>97</td>\n",
       "      <td>407</td>\n",
       "      <td>Added by Aono and Kazui (2008), Int. J. Climat...</td>\n",
       "      <td>data from modern times (full-bloom date since ...</td>\n",
       "      <td>NEWS-PAPER(ARASHIYAMA)</td>\n",
       "    </tr>\n",
       "    <tr>\n",
       "      <th>1200</th>\n",
       "      <td>2001</td>\n",
       "      <td>97</td>\n",
       "      <td>407</td>\n",
       "      <td>Added by Aono and Kazui (2008), Int. J. Climat...</td>\n",
       "      <td>data from modern times (full-bloom date since ...</td>\n",
       "      <td>NEWS-PAPER(ARASHIYAMA)</td>\n",
       "    </tr>\n",
       "    <tr>\n",
       "      <th>1201</th>\n",
       "      <td>2002</td>\n",
       "      <td>97</td>\n",
       "      <td>406</td>\n",
       "      <td>Added by Aono and Kazui (2008), Int. J. Climat...</td>\n",
       "      <td>data from modern times (full-bloom date since ...</td>\n",
       "      <td>NEWS-PAPER(ARASHIYAMA)</td>\n",
       "    </tr>\n",
       "    <tr>\n",
       "      <th>1202</th>\n",
       "      <td>2003</td>\n",
       "      <td>97</td>\n",
       "      <td>407</td>\n",
       "      <td>Added by Aono and Kazui (2008), Int. J. Climat...</td>\n",
       "      <td>data from modern times (full-bloom date since ...</td>\n",
       "      <td>NEWS-PAPER(ARASHIYAMA)</td>\n",
       "    </tr>\n",
       "    <tr>\n",
       "      <th>1203</th>\n",
       "      <td>2004</td>\n",
       "      <td>96</td>\n",
       "      <td>406</td>\n",
       "      <td>Added by Aono and Kazui (2008), Int. J. Climat...</td>\n",
       "      <td>data from modern times (full-bloom date since ...</td>\n",
       "      <td>NEWS-PAPER(ARASHIYAMA)</td>\n",
       "    </tr>\n",
       "    <tr>\n",
       "      <th>1204</th>\n",
       "      <td>2005</td>\n",
       "      <td>96</td>\n",
       "      <td>406</td>\n",
       "      <td>Added by Aono and Kazui (2008), Int. J. Climat...</td>\n",
       "      <td>data from modern times (full-bloom date since ...</td>\n",
       "      <td>NEWS-PAPER(ARASHIYAMA)</td>\n",
       "    </tr>\n",
       "    <tr>\n",
       "      <th>1205</th>\n",
       "      <td>2006</td>\n",
       "      <td>96</td>\n",
       "      <td>405</td>\n",
       "      <td>Cherry phenological data, Added by Aono and Sa...</td>\n",
       "      <td>data from modern times (full-bloom date since ...</td>\n",
       "      <td>NEWS-PAPER(ARASHIYAMA)</td>\n",
       "    </tr>\n",
       "    <tr>\n",
       "      <th>1206</th>\n",
       "      <td>2007</td>\n",
       "      <td>96</td>\n",
       "      <td>405</td>\n",
       "      <td>Cherry phenological data, Added by Aono and Sa...</td>\n",
       "      <td>data from modern times (full-bloom date since ...</td>\n",
       "      <td>NEWS-PAPER(ARASHIYAMA)</td>\n",
       "    </tr>\n",
       "    <tr>\n",
       "      <th>1207</th>\n",
       "      <td>2008</td>\n",
       "      <td>96</td>\n",
       "      <td>406</td>\n",
       "      <td>Added by Aono (2011), Time Studies, 4, 17-29. ...</td>\n",
       "      <td>data from modern times (full-bloom date since ...</td>\n",
       "      <td>NEWS-PAPER(ARASHIYAMA)</td>\n",
       "    </tr>\n",
       "    <tr>\n",
       "      <th>1208</th>\n",
       "      <td>2009</td>\n",
       "      <td>96</td>\n",
       "      <td>406</td>\n",
       "      <td>Added by Aono (2011), Time Studies, 4, 17-29. ...</td>\n",
       "      <td>data from modern times (full-bloom date since ...</td>\n",
       "      <td>NEWS-PAPER(ARASHIYAMA)</td>\n",
       "    </tr>\n",
       "    <tr>\n",
       "      <th>1209</th>\n",
       "      <td>2010</td>\n",
       "      <td>96</td>\n",
       "      <td>405</td>\n",
       "      <td>Added by Aono (2012), Chikyu Kankyo, 17, 21-29...</td>\n",
       "      <td>data from modern times (full-bloom date since ...</td>\n",
       "      <td>NEWS-PAPER(ARASHIYAMA)</td>\n",
       "    </tr>\n",
       "    <tr>\n",
       "      <th>1210</th>\n",
       "      <td>2011</td>\n",
       "      <td>96</td>\n",
       "      <td>406</td>\n",
       "      <td>Found after the last publication of articles.</td>\n",
       "      <td>data from modern times (full-bloom date since ...</td>\n",
       "      <td>NEWS-PAPER(ARASHIYAMA)</td>\n",
       "    </tr>\n",
       "    <tr>\n",
       "      <th>1211</th>\n",
       "      <td>2012</td>\n",
       "      <td>97</td>\n",
       "      <td>407</td>\n",
       "      <td>Found after the last publication of articles.</td>\n",
       "      <td>data from modern times (full-bloom date since ...</td>\n",
       "      <td>NEWS-PAPER(ARASHIYAMA)</td>\n",
       "    </tr>\n",
       "    <tr>\n",
       "      <th>1212</th>\n",
       "      <td>2013</td>\n",
       "      <td>96</td>\n",
       "      <td>406</td>\n",
       "      <td>Found after the last publication of articles.</td>\n",
       "      <td>data from modern times (full-bloom date since ...</td>\n",
       "      <td>NEWS-PAPER(ARASHIYAMA)</td>\n",
       "    </tr>\n",
       "    <tr>\n",
       "      <th>1213</th>\n",
       "      <td>2014</td>\n",
       "      <td>97</td>\n",
       "      <td>406</td>\n",
       "      <td>Found after the last publication of articles.</td>\n",
       "      <td>data from modern times (full-bloom date since ...</td>\n",
       "      <td>NEWS-PAPER(ARASHIYAMA)</td>\n",
       "    </tr>\n",
       "    <tr>\n",
       "      <th>1214</th>\n",
       "      <td>2015</td>\n",
       "      <td>96</td>\n",
       "      <td>406</td>\n",
       "      <td>Found after the last publication of articles.</td>\n",
       "      <td>data from modern times (full-bloom date since ...</td>\n",
       "      <td>NEWS-PAPER(ARASHIYAMA)</td>\n",
       "    </tr>\n",
       "  </tbody>\n",
       "</table>\n",
       "</div>"
      ],
      "text/plain": [
       "        AD  Full-flowering date (DOY)  Full-flowering date  \\\n",
       "1195  1996                         97                  400   \n",
       "1196  1997                         97                  400   \n",
       "1197  1998                         96                  399   \n",
       "1198  1999                         96                  399   \n",
       "1199  2000                         97                  407   \n",
       "1200  2001                         97                  407   \n",
       "1201  2002                         97                  406   \n",
       "1202  2003                         97                  407   \n",
       "1203  2004                         96                  406   \n",
       "1204  2005                         96                  406   \n",
       "1205  2006                         96                  405   \n",
       "1206  2007                         96                  405   \n",
       "1207  2008                         96                  406   \n",
       "1208  2009                         96                  406   \n",
       "1209  2010                         96                  405   \n",
       "1210  2011                         96                  406   \n",
       "1211  2012                         97                  407   \n",
       "1212  2013                         96                  406   \n",
       "1213  2014                         97                  406   \n",
       "1214  2015                         96                  406   \n",
       "\n",
       "                                            Source code  \\\n",
       "1195  Added by Aono and Kazui (2008), Int. J. Climat...   \n",
       "1196  Added by Aono and Kazui (2008), Int. J. Climat...   \n",
       "1197  Added by Aono and Kazui (2008), Int. J. Climat...   \n",
       "1198  Added by Aono and Kazui (2008), Int. J. Climat...   \n",
       "1199  Added by Aono and Kazui (2008), Int. J. Climat...   \n",
       "1200  Added by Aono and Kazui (2008), Int. J. Climat...   \n",
       "1201  Added by Aono and Kazui (2008), Int. J. Climat...   \n",
       "1202  Added by Aono and Kazui (2008), Int. J. Climat...   \n",
       "1203  Added by Aono and Kazui (2008), Int. J. Climat...   \n",
       "1204  Added by Aono and Kazui (2008), Int. J. Climat...   \n",
       "1205  Cherry phenological data, Added by Aono and Sa...   \n",
       "1206  Cherry phenological data, Added by Aono and Sa...   \n",
       "1207  Added by Aono (2011), Time Studies, 4, 17-29. ...   \n",
       "1208  Added by Aono (2011), Time Studies, 4, 17-29. ...   \n",
       "1209  Added by Aono (2012), Chikyu Kankyo, 17, 21-29...   \n",
       "1210      Found after the last publication of articles.   \n",
       "1211      Found after the last publication of articles.   \n",
       "1212      Found after the last publication of articles.   \n",
       "1213      Found after the last publication of articles.   \n",
       "1214      Found after the last publication of articles.   \n",
       "\n",
       "                                         Data type code  \\\n",
       "1195  data from modern times (full-bloom date since ...   \n",
       "1196  data from modern times (full-bloom date since ...   \n",
       "1197  data from modern times (full-bloom date since ...   \n",
       "1198  data from modern times (full-bloom date since ...   \n",
       "1199  data from modern times (full-bloom date since ...   \n",
       "1200  data from modern times (full-bloom date since ...   \n",
       "1201  data from modern times (full-bloom date since ...   \n",
       "1202  data from modern times (full-bloom date since ...   \n",
       "1203  data from modern times (full-bloom date since ...   \n",
       "1204  data from modern times (full-bloom date since ...   \n",
       "1205  data from modern times (full-bloom date since ...   \n",
       "1206  data from modern times (full-bloom date since ...   \n",
       "1207  data from modern times (full-bloom date since ...   \n",
       "1208  data from modern times (full-bloom date since ...   \n",
       "1209  data from modern times (full-bloom date since ...   \n",
       "1210  data from modern times (full-bloom date since ...   \n",
       "1211  data from modern times (full-bloom date since ...   \n",
       "1212  data from modern times (full-bloom date since ...   \n",
       "1213  data from modern times (full-bloom date since ...   \n",
       "1214  data from modern times (full-bloom date since ...   \n",
       "\n",
       "              Reference Name  \n",
       "1195  NEWS-PAPER(ARASHIYAMA)  \n",
       "1196  NEWS-PAPER(ARASHIYAMA)  \n",
       "1197  NEWS-PAPER(ARASHIYAMA)  \n",
       "1198  NEWS-PAPER(ARASHIYAMA)  \n",
       "1199  NEWS-PAPER(ARASHIYAMA)  \n",
       "1200  NEWS-PAPER(ARASHIYAMA)  \n",
       "1201  NEWS-PAPER(ARASHIYAMA)  \n",
       "1202  NEWS-PAPER(ARASHIYAMA)  \n",
       "1203  NEWS-PAPER(ARASHIYAMA)  \n",
       "1204  NEWS-PAPER(ARASHIYAMA)  \n",
       "1205  NEWS-PAPER(ARASHIYAMA)  \n",
       "1206  NEWS-PAPER(ARASHIYAMA)  \n",
       "1207  NEWS-PAPER(ARASHIYAMA)  \n",
       "1208  NEWS-PAPER(ARASHIYAMA)  \n",
       "1209  NEWS-PAPER(ARASHIYAMA)  \n",
       "1210  NEWS-PAPER(ARASHIYAMA)  \n",
       "1211  NEWS-PAPER(ARASHIYAMA)  \n",
       "1212  NEWS-PAPER(ARASHIYAMA)  \n",
       "1213  NEWS-PAPER(ARASHIYAMA)  \n",
       "1214  NEWS-PAPER(ARASHIYAMA)  "
      ]
     },
     "execution_count": 35,
     "metadata": {},
     "output_type": "execute_result"
    }
   ],
   "source": [
    "df.rolling(10, on='AD', min_periods=5).mean().tail(20)\n",
    "# If this gives you an error you're using an old pandas version,\n",
    "# so you can use df.set_index('AD').rolling(10, min_periods=5).mean().reset_index().tail()\n",
    "# instead"
   ]
  },
  {
   "cell_type": "markdown",
   "metadata": {},
   "source": [
    "Adjust the code above to compute **and graph** a 20-year rolling average for the entire dataset."
   ]
  },
  {
   "cell_type": "code",
   "execution_count": 36,
   "metadata": {},
   "outputs": [
    {
     "data": {
      "text/plain": [
       "<matplotlib.axes._subplots.AxesSubplot at 0x109e45f98>"
      ]
     },
     "execution_count": 36,
     "metadata": {},
     "output_type": "execute_result"
    },
    {
     "data": {
      "image/png": "[encoded data removed]",
      "text/plain": [
       "<matplotlib.figure.Figure at 0x10a0099e8>"
      ]
     },
     "metadata": {},
     "output_type": "display_data"
    }
   ],
   "source": [
    "data = df_ignore.rolling(80, on='AD', min_periods=5).mean()\n",
    "\n",
    "data.plot(kind='line', x = 'AD', y='Full-flowering date (DOY)')\n",
    "# (x='AD',y='Full-flowering date (DOY)')\n",
    "\n",
    "\n",
    "\n"
   ]
  },
  {
   "cell_type": "markdown",
   "metadata": {},
   "source": [
    "# Adding a month column\n",
    "\n",
    "### HOLD ON, time to learn something\n",
    "\n",
    "**There are a few ways to do the next question**, but a couple popular methods will have pandas yell at you. You might want to try this new thing called `loc`! **It is used to update a column in a row based on a condition.**\n",
    "\n",
    "```\n",
    "df.loc[df.country == 'Angola', \"continent\"] = \"Africa\"\n",
    "```\n",
    "\n",
    "This updates the `continent` column to be `Africa` for every row where `df.country == 'Angola'`. You CANNOT do the following, which is probably what you've wanted to do:\n",
    "\n",
    "```\n",
    "df[df.country == 'Angola']['continent'] = 'Africa'\n",
    "```\n",
    "\n",
    "And now you know.\n",
    "\n",
    "### Actually adding our column\n",
    "\n",
    "Right now the \"Full-flowering date\" column is pretty rough. It uses numbers like '402' to mean \"April 2nd\" and \"416\" to mean \"April 16th.\" Let's make a column to explain what month it happened in.\n",
    "\n",
    "* Every row that happened in April should have 'April' in the `month` column.\n",
    "* Every row that happened in March should have 'March' as the `month` column.\n",
    "* Every row that happened in May should have 'May' as the `month` column."
   ]
  },
  {
   "cell_type": "code",
   "execution_count": 37,
   "metadata": {
    "collapsed": true
   },
   "outputs": [],
   "source": [
    "import re"
   ]
  },
  {
   "cell_type": "code",
   "execution_count": 38,
   "metadata": {},
   "outputs": [
    {
     "data": {
      "text/plain": [
       "AD                             int64\n",
       "Full-flowering date (DOY)    float64\n",
       "Full-flowering date          float64\n",
       "Source code                   object\n",
       "Data type code                object\n",
       "Reference Name                object\n",
       "dtype: object"
      ]
     },
     "execution_count": 38,
     "metadata": {},
     "output_type": "execute_result"
    }
   ],
   "source": [
    "df_ignore.dtypes"
   ]
  },
  {
   "cell_type": "code",
   "execution_count": 39,
   "metadata": {
    "collapsed": true
   },
   "outputs": [],
   "source": [
    "df_ignore['Full-flowering date'] = df_ignore['Full-flowering date'].astype(str)\n"
   ]
  },
  {
   "cell_type": "code",
   "execution_count": 140,
   "metadata": {
    "collapsed": true
   },
   "outputs": [],
   "source": [
    "df_ignore.loc[df_ignore['Full-flowering date'].str.contains('^4.*$'), \"month\"] = \"April \""
   ]
  },
  {
   "cell_type": "code",
   "execution_count": 141,
   "metadata": {
    "collapsed": true
   },
   "outputs": [],
   "source": [
    "df_ignore.loc[df_ignore['Full-flowering date'].str.contains('^3.*$'), \"month\"] = \"March \""
   ]
  },
  {
   "cell_type": "code",
   "execution_count": 142,
   "metadata": {
    "collapsed": true
   },
   "outputs": [],
   "source": [
    "df_ignore.loc[df_ignore['Full-flowering date'].str.contains('^2.*$'), \"month\"] = \"February \""
   ]
  },
  {
   "cell_type": "code",
   "execution_count": null,
   "metadata": {
    "collapsed": true
   },
   "outputs": [],
   "source": []
  },
  {
   "cell_type": "code",
   "execution_count": null,
   "metadata": {
    "collapsed": true
   },
   "outputs": [],
   "source": []
  },
  {
   "cell_type": "markdown",
   "metadata": {},
   "source": [
    "### Using your new column, how many blossomings happened in each month?"
   ]
  },
  {
   "cell_type": "code",
   "execution_count": 43,
   "metadata": {},
   "outputs": [
    {
     "data": {
      "text/plain": [
       "April    814\n",
       "March     10\n",
       "Name: month, dtype: int64"
      ]
     },
     "execution_count": 43,
     "metadata": {},
     "output_type": "execute_result"
    }
   ],
   "source": [
    "df_ignore['month'].value_counts(dropna=True)"
   ]
  },
  {
   "cell_type": "markdown",
   "metadata": {},
   "source": [
    "### Graph how many blossomings happened in each month."
   ]
  },
  {
   "cell_type": "code",
   "execution_count": 44,
   "metadata": {},
   "outputs": [
    {
     "data": {
      "text/plain": [
       "<matplotlib.axes._subplots.AxesSubplot at 0x10a431c50>"
      ]
     },
     "execution_count": 44,
     "metadata": {},
     "output_type": "execute_result"
    },
    {
     "data": {
      "image/png": "[encoded data removed]",
      "text/plain": [
       "<matplotlib.figure.Figure at 0x10a431f98>"
      ]
     },
     "metadata": {},
     "output_type": "display_data"
    }
   ],
   "source": [
    "df_ignore['month'].value_counts(dropna=True).plot(kind='bar')"
   ]
  },
  {
   "cell_type": "markdown",
   "metadata": {},
   "source": [
    "## 19. Adding a day-of-month column\n",
    "\n",
    "Now we're going to add a new column called **day-of-month** based on the full-flowering date.\n",
    "\n",
    "- 402 means \"April 2\"\n",
    "- 312 means \"March 12\"\n",
    "- 511 means \"May 11\"\n",
    "\n",
    "**We're only interested in the second part**. Previously I've had students convert them to integers to do this, but you know regular expressions!\n",
    "\n",
    "- Tip: You won't be able to extract anything from a float, you'll need it to be a string\n",
    "- Tip: There are two things that mean \"talk about this column as a string,\" maybe you want me to talk about them?"
   ]
  },
  {
   "cell_type": "code",
   "execution_count": 45,
   "metadata": {
    "collapsed": true
   },
   "outputs": [],
   "source": [
    "import re"
   ]
  },
  {
   "cell_type": "code",
   "execution_count": 54,
   "metadata": {},
   "outputs": [
    {
     "data": {
      "text/html": [
       "<div>\n",
       "<style>\n",
       "    .dataframe thead tr:only-child th {\n",
       "        text-align: right;\n",
       "    }\n",
       "\n",
       "    .dataframe thead th {\n",
       "        text-align: left;\n",
       "    }\n",
       "\n",
       "    .dataframe tbody tr th {\n",
       "        vertical-align: top;\n",
       "    }\n",
       "</style>\n",
       "<table border=\"1\" class=\"dataframe\">\n",
       "  <thead>\n",
       "    <tr style=\"text-align: right;\">\n",
       "      <th></th>\n",
       "      <th>AD</th>\n",
       "      <th>Full-flowering date (DOY)</th>\n",
       "      <th>Full-flowering date</th>\n",
       "      <th>Source code</th>\n",
       "      <th>Data type code</th>\n",
       "      <th>Reference Name</th>\n",
       "      <th>month</th>\n",
       "    </tr>\n",
       "  </thead>\n",
       "  <tbody>\n",
       "    <tr>\n",
       "      <th>1210</th>\n",
       "      <td>2011</td>\n",
       "      <td>99</td>\n",
       "      <td>409.0</td>\n",
       "      <td>Found after the last publication of articles.</td>\n",
       "      <td>data from modern times (full-bloom date since ...</td>\n",
       "      <td>NEWS-PAPER(ARASHIYAMA)</td>\n",
       "      <td>April</td>\n",
       "    </tr>\n",
       "    <tr>\n",
       "      <th>1211</th>\n",
       "      <td>2012</td>\n",
       "      <td>101</td>\n",
       "      <td>410.0</td>\n",
       "      <td>Found after the last publication of articles.</td>\n",
       "      <td>data from modern times (full-bloom date since ...</td>\n",
       "      <td>NEWS-PAPER(ARASHIYAMA)</td>\n",
       "      <td>April</td>\n",
       "    </tr>\n",
       "    <tr>\n",
       "      <th>1212</th>\n",
       "      <td>2013</td>\n",
       "      <td>93</td>\n",
       "      <td>403.0</td>\n",
       "      <td>Found after the last publication of articles.</td>\n",
       "      <td>data from modern times (full-bloom date since ...</td>\n",
       "      <td>NEWS-PAPER(ARASHIYAMA)</td>\n",
       "      <td>April</td>\n",
       "    </tr>\n",
       "    <tr>\n",
       "      <th>1213</th>\n",
       "      <td>2014</td>\n",
       "      <td>94</td>\n",
       "      <td>404.0</td>\n",
       "      <td>Found after the last publication of articles.</td>\n",
       "      <td>data from modern times (full-bloom date since ...</td>\n",
       "      <td>NEWS-PAPER(ARASHIYAMA)</td>\n",
       "      <td>April</td>\n",
       "    </tr>\n",
       "    <tr>\n",
       "      <th>1214</th>\n",
       "      <td>2015</td>\n",
       "      <td>93</td>\n",
       "      <td>403.0</td>\n",
       "      <td>Found after the last publication of articles.</td>\n",
       "      <td>data from modern times (full-bloom date since ...</td>\n",
       "      <td>NEWS-PAPER(ARASHIYAMA)</td>\n",
       "      <td>April</td>\n",
       "    </tr>\n",
       "  </tbody>\n",
       "</table>\n",
       "</div>"
      ],
      "text/plain": [
       "        AD  Full-flowering date (DOY) Full-flowering date  \\\n",
       "1210  2011                         99               409.0   \n",
       "1211  2012                        101               410.0   \n",
       "1212  2013                         93               403.0   \n",
       "1213  2014                         94               404.0   \n",
       "1214  2015                         93               403.0   \n",
       "\n",
       "                                        Source code  \\\n",
       "1210  Found after the last publication of articles.   \n",
       "1211  Found after the last publication of articles.   \n",
       "1212  Found after the last publication of articles.   \n",
       "1213  Found after the last publication of articles.   \n",
       "1214  Found after the last publication of articles.   \n",
       "\n",
       "                                         Data type code  \\\n",
       "1210  data from modern times (full-bloom date since ...   \n",
       "1211  data from modern times (full-bloom date since ...   \n",
       "1212  data from modern times (full-bloom date since ...   \n",
       "1213  data from modern times (full-bloom date since ...   \n",
       "1214  data from modern times (full-bloom date since ...   \n",
       "\n",
       "              Reference Name  month  \n",
       "1210  NEWS-PAPER(ARASHIYAMA)  April  \n",
       "1211  NEWS-PAPER(ARASHIYAMA)  April  \n",
       "1212  NEWS-PAPER(ARASHIYAMA)  April  \n",
       "1213  NEWS-PAPER(ARASHIYAMA)  April  \n",
       "1214  NEWS-PAPER(ARASHIYAMA)  April  "
      ]
     },
     "execution_count": 54,
     "metadata": {},
     "output_type": "execute_result"
    }
   ],
   "source": [
    "df_ignore.tail()"
   ]
  },
  {
   "cell_type": "code",
   "execution_count": 145,
   "metadata": {},
   "outputs": [
    {
     "data": {
      "text/plain": [
       "['01',\n",
       " '15',\n",
       " '06',\n",
       " '18',\n",
       " '14',\n",
       " '09',\n",
       " '16',\n",
       " '05',\n",
       " '14',\n",
       " '19',\n",
       " '17',\n",
       " '16',\n",
       " '14',\n",
       " '13',\n",
       " '12',\n",
       " '07',\n",
       " '04',\n",
       " '20',\n",
       " '05',\n",
       " '14',\n",
       " '08',\n",
       " '07',\n",
       " '16',\n",
       " '19',\n",
       " '17',\n",
       " '05',\n",
       " '30',\n",
       " '22',\n",
       " '19',\n",
       " '07',\n",
       " '10',\n",
       " '28',\n",
       " '04',\n",
       " '14',\n",
       " '08',\n",
       " '13',\n",
       " '08',\n",
       " '16',\n",
       " '18',\n",
       " '11',\n",
       " '22',\n",
       " '14',\n",
       " '04',\n",
       " '10',\n",
       " '14',\n",
       " '15',\n",
       " '26',\n",
       " '10',\n",
       " '16',\n",
       " '25',\n",
       " '20',\n",
       " '09',\n",
       " '23',\n",
       " '08',\n",
       " '26',\n",
       " '07',\n",
       " '20',\n",
       " '12',\n",
       " '06',\n",
       " '13',\n",
       " '13',\n",
       " '13',\n",
       " '21',\n",
       " '15',\n",
       " '17',\n",
       " '02',\n",
       " '15',\n",
       " '23',\n",
       " '13',\n",
       " '11',\n",
       " '06',\n",
       " '29',\n",
       " '13',\n",
       " '15',\n",
       " '15',\n",
       " '10',\n",
       " '05',\n",
       " '10',\n",
       " '13',\n",
       " '14',\n",
       " '17',\n",
       " '24',\n",
       " '15',\n",
       " '23',\n",
       " '13',\n",
       " '10',\n",
       " '19',\n",
       " '12',\n",
       " '13',\n",
       " '22',\n",
       " '07',\n",
       " '21',\n",
       " '18',\n",
       " '17',\n",
       " '20',\n",
       " '16',\n",
       " '13',\n",
       " '13',\n",
       " '16',\n",
       " '23',\n",
       " '12',\n",
       " '21',\n",
       " '20',\n",
       " '17',\n",
       " '19',\n",
       " '06',\n",
       " '30',\n",
       " '13',\n",
       " '22',\n",
       " '22',\n",
       " '09',\n",
       " '16',\n",
       " '05',\n",
       " '21',\n",
       " '22',\n",
       " '23',\n",
       " '12',\n",
       " '27',\n",
       " '22',\n",
       " '23',\n",
       " '22',\n",
       " '13',\n",
       " '07',\n",
       " '14',\n",
       " '11',\n",
       " '24',\n",
       " '25',\n",
       " '14',\n",
       " '16',\n",
       " '22',\n",
       " '16',\n",
       " '29',\n",
       " '19',\n",
       " '13',\n",
       " '06',\n",
       " '16',\n",
       " '15',\n",
       " '19',\n",
       " '15',\n",
       " '14',\n",
       " '22',\n",
       " '07',\n",
       " '17',\n",
       " '12',\n",
       " '18',\n",
       " '10',\n",
       " '11',\n",
       " '18',\n",
       " '09',\n",
       " '26',\n",
       " '15',\n",
       " '16',\n",
       " '21',\n",
       " '07',\n",
       " '12',\n",
       " '11',\n",
       " '01',\n",
       " '15',\n",
       " '20',\n",
       " '27',\n",
       " '15',\n",
       " '17',\n",
       " '18',\n",
       " '08',\n",
       " '16',\n",
       " '18',\n",
       " '26',\n",
       " '10',\n",
       " '20',\n",
       " '04',\n",
       " '06',\n",
       " '07',\n",
       " '30',\n",
       " '12',\n",
       " '08',\n",
       " '15',\n",
       " '12',\n",
       " '10',\n",
       " '10',\n",
       " '17',\n",
       " '23',\n",
       " '11',\n",
       " '11',\n",
       " '13',\n",
       " '11',\n",
       " '15',\n",
       " '22',\n",
       " '20',\n",
       " '17',\n",
       " '17',\n",
       " '16',\n",
       " '11',\n",
       " '12',\n",
       " '05',\n",
       " '06',\n",
       " '14',\n",
       " '04',\n",
       " '09',\n",
       " '11',\n",
       " '21',\n",
       " '12',\n",
       " '12',\n",
       " '26',\n",
       " '12',\n",
       " '16',\n",
       " '04',\n",
       " '07',\n",
       " '17',\n",
       " '22',\n",
       " '18',\n",
       " '22',\n",
       " '24',\n",
       " '20',\n",
       " '11',\n",
       " '17',\n",
       " '19',\n",
       " '22',\n",
       " '11',\n",
       " '25',\n",
       " '26',\n",
       " '17',\n",
       " '20',\n",
       " '15',\n",
       " '10',\n",
       " '18',\n",
       " '17',\n",
       " '19',\n",
       " '22',\n",
       " '07',\n",
       " '28',\n",
       " '04',\n",
       " '19',\n",
       " '11',\n",
       " '20',\n",
       " '13',\n",
       " '08',\n",
       " '15',\n",
       " '14',\n",
       " '13',\n",
       " '11',\n",
       " '18',\n",
       " '15',\n",
       " '12',\n",
       " '07',\n",
       " '09',\n",
       " '15',\n",
       " '10',\n",
       " '08',\n",
       " '16',\n",
       " '11',\n",
       " '13',\n",
       " '14',\n",
       " '12',\n",
       " '11',\n",
       " '20',\n",
       " '27',\n",
       " '12',\n",
       " '02',\n",
       " '01',\n",
       " '15',\n",
       " '10',\n",
       " '19',\n",
       " '08',\n",
       " '10',\n",
       " '21',\n",
       " '09',\n",
       " '19',\n",
       " '06',\n",
       " '12',\n",
       " '08',\n",
       " '09',\n",
       " '12',\n",
       " '08',\n",
       " '18',\n",
       " '12',\n",
       " '13',\n",
       " '08',\n",
       " '23',\n",
       " '05',\n",
       " '10',\n",
       " '13',\n",
       " '09',\n",
       " '11',\n",
       " '07',\n",
       " '15',\n",
       " '17',\n",
       " '18',\n",
       " '18',\n",
       " '21',\n",
       " '05',\n",
       " '05',\n",
       " '10',\n",
       " '13',\n",
       " '01',\n",
       " '17',\n",
       " '15',\n",
       " '06',\n",
       " '15',\n",
       " '15',\n",
       " '22',\n",
       " '23',\n",
       " '20',\n",
       " '16',\n",
       " '16',\n",
       " '11',\n",
       " '13',\n",
       " '08',\n",
       " '15',\n",
       " '11',\n",
       " '10',\n",
       " '23',\n",
       " '08',\n",
       " '09',\n",
       " '20',\n",
       " '25',\n",
       " '20',\n",
       " '13',\n",
       " '16',\n",
       " '18',\n",
       " '11',\n",
       " '06',\n",
       " '04',\n",
       " '09',\n",
       " '03',\n",
       " '12',\n",
       " '10',\n",
       " '07',\n",
       " '17',\n",
       " '17',\n",
       " '10',\n",
       " '16',\n",
       " '04',\n",
       " '06',\n",
       " '18',\n",
       " '07',\n",
       " '21',\n",
       " '07',\n",
       " '13',\n",
       " '25',\n",
       " '18',\n",
       " '23',\n",
       " '16',\n",
       " '16',\n",
       " '18',\n",
       " '20',\n",
       " '12',\n",
       " '20',\n",
       " '21',\n",
       " '18',\n",
       " '20',\n",
       " '15',\n",
       " '21',\n",
       " '13',\n",
       " '16',\n",
       " '25',\n",
       " '21',\n",
       " '14',\n",
       " '17',\n",
       " '13',\n",
       " '19',\n",
       " '18',\n",
       " '14',\n",
       " '23',\n",
       " '15',\n",
       " '15',\n",
       " '17',\n",
       " '17',\n",
       " '13',\n",
       " '17',\n",
       " '21',\n",
       " '18',\n",
       " '05',\n",
       " '17',\n",
       " '18',\n",
       " '22',\n",
       " '30',\n",
       " '01',\n",
       " '19',\n",
       " '12',\n",
       " '29',\n",
       " '16',\n",
       " '07',\n",
       " '22',\n",
       " '14',\n",
       " '27',\n",
       " '27',\n",
       " '21',\n",
       " '19',\n",
       " '13',\n",
       " '29',\n",
       " '11',\n",
       " '29',\n",
       " '03',\n",
       " '21',\n",
       " '06',\n",
       " '09',\n",
       " '12',\n",
       " '09',\n",
       " '09',\n",
       " '18',\n",
       " '24',\n",
       " '07',\n",
       " '18',\n",
       " '15',\n",
       " '22',\n",
       " '18',\n",
       " '16',\n",
       " '08',\n",
       " '18',\n",
       " '10',\n",
       " '12',\n",
       " '06',\n",
       " '15',\n",
       " '18',\n",
       " '15',\n",
       " '15',\n",
       " '16',\n",
       " '15',\n",
       " '15',\n",
       " '15',\n",
       " '12',\n",
       " '04',\n",
       " '07',\n",
       " '23',\n",
       " '03',\n",
       " '21',\n",
       " '13',\n",
       " '24',\n",
       " '20',\n",
       " '13',\n",
       " '10',\n",
       " '03',\n",
       " '17',\n",
       " '09',\n",
       " '04',\n",
       " '15',\n",
       " '16',\n",
       " '20',\n",
       " '18',\n",
       " '20',\n",
       " '27',\n",
       " '16',\n",
       " '13',\n",
       " '20',\n",
       " '01',\n",
       " '17',\n",
       " '12',\n",
       " '03',\n",
       " '19',\n",
       " '16',\n",
       " '23',\n",
       " '21',\n",
       " '05',\n",
       " '10',\n",
       " '13',\n",
       " '22',\n",
       " '13',\n",
       " '08',\n",
       " '06',\n",
       " '07',\n",
       " '15',\n",
       " '15',\n",
       " '18',\n",
       " '12',\n",
       " '27',\n",
       " '24',\n",
       " '24',\n",
       " '14',\n",
       " '09',\n",
       " '28',\n",
       " '22',\n",
       " '14',\n",
       " '12',\n",
       " '17',\n",
       " '16',\n",
       " '22',\n",
       " '14',\n",
       " '14',\n",
       " '12',\n",
       " '18',\n",
       " '20',\n",
       " '03',\n",
       " '20',\n",
       " '15',\n",
       " '14',\n",
       " '22',\n",
       " '18',\n",
       " '22',\n",
       " '19',\n",
       " '14',\n",
       " '12',\n",
       " '26',\n",
       " '21',\n",
       " '15',\n",
       " '25',\n",
       " '21',\n",
       " '12',\n",
       " '06',\n",
       " '19',\n",
       " '24',\n",
       " '18',\n",
       " '20',\n",
       " '14',\n",
       " '18',\n",
       " '27',\n",
       " '16',\n",
       " '14',\n",
       " '14',\n",
       " '23',\n",
       " '07',\n",
       " '03',\n",
       " '13',\n",
       " '18',\n",
       " '17',\n",
       " '19',\n",
       " '30',\n",
       " '23',\n",
       " '21',\n",
       " '11',\n",
       " '07',\n",
       " '26',\n",
       " '22',\n",
       " '26',\n",
       " '13',\n",
       " '22',\n",
       " '19',\n",
       " '25',\n",
       " '21',\n",
       " '12',\n",
       " '16',\n",
       " '14',\n",
       " '18',\n",
       " '17',\n",
       " '19',\n",
       " '08',\n",
       " '12',\n",
       " '12',\n",
       " '23',\n",
       " '05',\n",
       " '10',\n",
       " '14',\n",
       " '08',\n",
       " '16',\n",
       " '26',\n",
       " '22',\n",
       " '13',\n",
       " '15',\n",
       " '14',\n",
       " '17',\n",
       " '17',\n",
       " '12',\n",
       " '11',\n",
       " '15',\n",
       " '03',\n",
       " '11',\n",
       " '20',\n",
       " '24',\n",
       " '19',\n",
       " '19',\n",
       " '18',\n",
       " '07',\n",
       " '15',\n",
       " '20',\n",
       " '11',\n",
       " '05',\n",
       " '10',\n",
       " '20',\n",
       " '13',\n",
       " '19',\n",
       " '06',\n",
       " '25',\n",
       " '30',\n",
       " '18',\n",
       " '22',\n",
       " '11',\n",
       " '19',\n",
       " '12',\n",
       " '30',\n",
       " '16',\n",
       " '22',\n",
       " '07',\n",
       " '16',\n",
       " '23',\n",
       " '11',\n",
       " '26',\n",
       " '15',\n",
       " '15',\n",
       " '14',\n",
       " '15',\n",
       " '10',\n",
       " '20',\n",
       " '09',\n",
       " '17',\n",
       " '14',\n",
       " '21',\n",
       " '06',\n",
       " '18',\n",
       " '01',\n",
       " '19',\n",
       " '13',\n",
       " '14',\n",
       " '18',\n",
       " '16',\n",
       " '15',\n",
       " '18',\n",
       " '16',\n",
       " '29',\n",
       " '09',\n",
       " '10',\n",
       " '16',\n",
       " '14',\n",
       " '23',\n",
       " '12',\n",
       " '07',\n",
       " '20',\n",
       " '13',\n",
       " '13',\n",
       " '15',\n",
       " '06',\n",
       " '20',\n",
       " '13',\n",
       " '03',\n",
       " '24',\n",
       " '26',\n",
       " '07',\n",
       " '17',\n",
       " '10',\n",
       " '20',\n",
       " '29',\n",
       " '17',\n",
       " '23',\n",
       " '21',\n",
       " '12',\n",
       " '20',\n",
       " '16',\n",
       " '16',\n",
       " '04',\n",
       " '19',\n",
       " '12',\n",
       " '16',\n",
       " '17',\n",
       " '24',\n",
       " '19',\n",
       " '10',\n",
       " '22',\n",
       " '22',\n",
       " '15',\n",
       " '24',\n",
       " '22',\n",
       " '17',\n",
       " '21',\n",
       " '22',\n",
       " '21',\n",
       " '21',\n",
       " '19',\n",
       " '30',\n",
       " '14',\n",
       " '17',\n",
       " '06',\n",
       " '16',\n",
       " '15',\n",
       " '12',\n",
       " '08',\n",
       " '17',\n",
       " '11',\n",
       " '10',\n",
       " '19',\n",
       " '12',\n",
       " '22',\n",
       " '12',\n",
       " '12',\n",
       " '11',\n",
       " '20',\n",
       " '18',\n",
       " '14',\n",
       " '20',\n",
       " '22',\n",
       " '10',\n",
       " '27',\n",
       " '28',\n",
       " '14',\n",
       " '07',\n",
       " '12',\n",
       " '11',\n",
       " '13',\n",
       " '15',\n",
       " '09',\n",
       " '14',\n",
       " '14',\n",
       " '17',\n",
       " '13',\n",
       " '20',\n",
       " '14',\n",
       " '11',\n",
       " '12',\n",
       " '19',\n",
       " '22',\n",
       " '07',\n",
       " '17',\n",
       " '18',\n",
       " '23',\n",
       " '18',\n",
       " '19',\n",
       " '16',\n",
       " '19',\n",
       " '08',\n",
       " '09',\n",
       " '24',\n",
       " '19',\n",
       " '08',\n",
       " '15',\n",
       " '16',\n",
       " '18',\n",
       " '09',\n",
       " '12',\n",
       " '12',\n",
       " '08',\n",
       " '09',\n",
       " '17',\n",
       " '15',\n",
       " '15',\n",
       " '13',\n",
       " '11',\n",
       " '18',\n",
       " '14',\n",
       " '08',\n",
       " '14',\n",
       " '13',\n",
       " '12',\n",
       " '12',\n",
       " '21',\n",
       " '13',\n",
       " '14',\n",
       " '13',\n",
       " '11',\n",
       " '07',\n",
       " '20',\n",
       " '18',\n",
       " '18',\n",
       " '17',\n",
       " '16',\n",
       " '13',\n",
       " '05',\n",
       " '15',\n",
       " '14',\n",
       " '16',\n",
       " '14',\n",
       " '12',\n",
       " '20',\n",
       " '10',\n",
       " '08',\n",
       " '14',\n",
       " '19',\n",
       " '10',\n",
       " '06',\n",
       " '11',\n",
       " '09',\n",
       " '07',\n",
       " '17',\n",
       " '11',\n",
       " '17',\n",
       " '09',\n",
       " '08',\n",
       " '14',\n",
       " '11',\n",
       " '08',\n",
       " '07',\n",
       " '08',\n",
       " '13',\n",
       " '09',\n",
       " '02',\n",
       " '04',\n",
       " '09',\n",
       " '12',\n",
       " '11',\n",
       " '08',\n",
       " '20',\n",
       " '07',\n",
       " '07',\n",
       " '08',\n",
       " '11',\n",
       " '17',\n",
       " '08',\n",
       " '08',\n",
       " '07',\n",
       " '09',\n",
       " '10',\n",
       " '08',\n",
       " '03',\n",
       " '14',\n",
       " '07',\n",
       " '11',\n",
       " '09',\n",
       " '03',\n",
       " '09',\n",
       " '18',\n",
       " '09',\n",
       " '12',\n",
       " '05',\n",
       " '15',\n",
       " '03',\n",
       " '29',\n",
       " '07',\n",
       " '03',\n",
       " '07',\n",
       " '09',\n",
       " '09',\n",
       " '12',\n",
       " '07',\n",
       " '01',\n",
       " '04',\n",
       " '09',\n",
       " '06',\n",
       " '01',\n",
       " '08',\n",
       " '01',\n",
       " '09',\n",
       " '08',\n",
       " '07',\n",
       " '04',\n",
       " '05',\n",
       " '05',\n",
       " '09',\n",
       " '10',\n",
       " '03',\n",
       " '04',\n",
       " '03']"
      ]
     },
     "execution_count": 145,
     "metadata": {},
     "output_type": "execute_result"
    }
   ],
   "source": [
    "[re.search(r'.(\\d\\d)', date).group(1) for date in df_ignore['Full-flowering date'] if re.search(r'.(\\d\\d)', date)]"
   ]
  },
  {
   "cell_type": "markdown",
   "metadata": {},
   "source": [
    "Now that you've successfully extracted the last two letters, save them into a new column called `'day-of-month'`"
   ]
  },
  {
   "cell_type": "markdown",
   "metadata": {},
   "source": [
    "### 20. Adding a date column\n",
    "\n",
    "Now take the `'month'` and `'day-of-month'` columns and combine them in order to create a new column called `'date'`. If should look like \"April 09\"."
   ]
  },
  {
   "cell_type": "code",
   "execution_count": null,
   "metadata": {
    "collapsed": true
   },
   "outputs": [],
   "source": [
    "df_ignore['day-of-month']= df_ignore['Full-flowering date'].str.extract(r'.(\\d\\d)')"
   ]
  },
  {
   "cell_type": "code",
   "execution_count": null,
   "metadata": {
    "collapsed": true
   },
   "outputs": [],
   "source": [
    "df_ignore['date'] = df['month'] + df_ignore['day-of-month']"
   ]
  }
 ],
 "metadata": {
  "kernelspec": {
   "display_name": "Python 3",
   "language": "python",
   "name": "python3"
  },
  "language_info": {
   "codemirror_mode": {
    "name": "ipython",
    "version": 3
   },
   "file_extension": ".py",
   "mimetype": "text/x-python",
   "name": "python",
   "nbconvert_exporter": "python",
   "pygments_lexer": "ipython3",
   "version": "3.6.1"
  }
 },
 "nbformat": 4,
 "nbformat_minor": 2
}
